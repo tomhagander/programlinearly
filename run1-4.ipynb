{
 "cells": [
  {
   "cell_type": "code",
   "execution_count": 1,
   "metadata": {},
   "outputs": [],
   "source": [
    "from MyRegressor import MyRegressor\n",
    "from utils import *\n",
    "import numpy as np\n",
    "\n",
    "# creating/importing data\n",
    "data = prepare_data_news()\n"
   ]
  },
  {
   "cell_type": "code",
   "execution_count": 2,
   "metadata": {},
   "outputs": [
    {
     "name": "stdout",
     "output_type": "stream",
     "text": [
      "[40, 396, 1189, 1982, 3964]\n",
      "assigning\n",
      "updating\n",
      "terminal\n",
      "False\n",
      "0.12452463091464212\n",
      "0.5679439108878268\n",
      "did 40\n",
      "assigning\n",
      "updating\n",
      "assigning\n",
      "updating\n",
      "assigning\n",
      "updating\n",
      "assigning\n",
      "updating\n",
      "assigning\n",
      "updating\n",
      "assigning\n",
      "updating\n",
      "assigning\n",
      "updating\n",
      "assigning\n",
      "updating\n",
      "assigning\n",
      "updating\n",
      "assigning\n",
      "updating\n",
      "assigning\n",
      "updating\n",
      "assigning\n",
      "updating\n",
      "assigning\n",
      "updating\n",
      "assigning\n",
      "updating\n",
      "assigning\n",
      "updating\n",
      "terminal\n",
      "True\n",
      "0.27606122390207327\n",
      "0.28826502156619954\n",
      "did 396\n",
      "assigning\n",
      "updating\n",
      "assigning\n",
      "updating\n",
      "terminal\n",
      "True\n",
      "0.2813669841379808\n",
      "0.2752178001215672\n",
      "did 1189\n",
      "assigning\n",
      "updating\n",
      "terminal\n",
      "True\n",
      "0.2835659756207993\n",
      "0.2733194270687238\n",
      "did 1982\n",
      "False\n",
      "0.28198997941064124\n",
      "0.27317162929422734\n",
      "did 3964\n"
     ]
    }
   ],
   "source": [
    "N,M = data[\"trainX\"].shape\n",
    "ks = [round(0.01*N), round(0.1*N), round(0.3*N), round(0.5*N), round(1*N)]\n",
    "print(ks)\n",
    "test_errors = []\n",
    "train_errors = []\n",
    "for k in ks:\n",
    "    reg = MyRegressor(alpha=0.01) # safe\n",
    "    selectX, selectY, timeout = reg.select_sample(data[\"trainX\"], data[\"trainY\"], k=k, timeout=60)\n",
    "    print(timeout)\n",
    "    predYtr, train_error = reg.train(selectX, selectY)\n",
    "    print(train_error)\n",
    "    predYte, test_error = reg.evaluate(data[\"testX\"], data[\"testY\"])\n",
    "    print(test_error)\n",
    "    train_errors.append(train_error)\n",
    "    test_errors.append(test_error)\n",
    "    print(\"did \" + str(k))"
   ]
  },
  {
   "cell_type": "code",
   "execution_count": 3,
   "metadata": {},
   "outputs": [
    {
     "name": "stdout",
     "output_type": "stream",
     "text": [
      "[0.12452463091464212, 0.27606122390207327, 0.2813669841379808, 0.2835659756207993, 0.28198997941064124]\n",
      "[0.5679439108878268, 0.28826502156619954, 0.2752178001215672, 0.2733194270687238, 0.27317162929422734]\n"
     ]
    },
    {
     "data": {
      "image/png": "[encoded data removed]",
      "text/plain": [
       "<Figure size 432x288 with 1 Axes>"
      ]
     },
     "metadata": {
      "needs_background": "light"
     },
     "output_type": "display_data"
    }
   ],
   "source": [
    "percentages=[0.01, 0.1, 0.3, 0.5, 1]\n",
    "results = {'taskID':'1-4', 'sample_num':percentages, 'train_err':train_errors, 'test_err':test_errors}\n",
    "print(train_errors)\n",
    "print(test_errors)\n",
    "plot_result(results)"
   ]
  },
  {
   "cell_type": "code",
   "execution_count": 4,
   "metadata": {},
   "outputs": [
    {
     "name": "stdout",
     "output_type": "stream",
     "text": [
      "[40, 396, 1189, 1982, 3964]\n",
      "False\n",
      "0.08203342305203944\n",
      "0.585774922316317\n",
      "did 40\n",
      "False\n",
      "0.2816208759703806\n",
      "0.2914217268409841\n",
      "did 396\n",
      "False\n",
      "0.2836525670397345\n",
      "0.27669026381949346\n",
      "did 1189\n",
      "False\n",
      "0.2831712001127913\n",
      "0.27338129319392096\n",
      "did 1982\n",
      "False\n",
      "0.28214464579530374\n",
      "0.2726910349272178\n",
      "did 3964\n"
     ]
    }
   ],
   "source": [
    "N,M = data[\"trainX\"].shape\n",
    "ks = [round(0.01*N), round(0.1*N), round(0.3*N), round(0.5*N), round(1*N)]\n",
    "print(ks)\n",
    "test_errors = []\n",
    "train_errors = []\n",
    "for k in ks:\n",
    "    reg = MyRegressor(alpha=0.01)\n",
    "    selectX, selectY, timeout = reg.select_sample_random(data[\"trainX\"], data[\"trainY\"], k=k, timeout=1000)\n",
    "    print(timeout)\n",
    "    predYtr, train_error = reg.train(selectX, selectY)\n",
    "    print(train_error)\n",
    "    predYte, test_error = reg.evaluate(data[\"testX\"], data[\"testY\"])\n",
    "    print(test_error)\n",
    "    train_errors.append(train_error)\n",
    "    test_errors.append(test_error)\n",
    "    print(\"did \" + str(k))"
   ]
  },
  {
   "cell_type": "code",
   "execution_count": 5,
   "metadata": {},
   "outputs": [
    {
     "name": "stdout",
     "output_type": "stream",
     "text": [
      "[0.08203342305203944, 0.2816208759703806, 0.2836525670397345, 0.2831712001127913, 0.28214464579530374]\n",
      "[0.585774922316317, 0.2914217268409841, 0.27669026381949346, 0.27338129319392096, 0.2726910349272178]\n"
     ]
    },
    {
     "data": {
      "image/png": "[encoded data removed]",
      "text/plain": [
       "<Figure size 432x288 with 1 Axes>"
      ]
     },
     "metadata": {
      "needs_background": "light"
     },
     "output_type": "display_data"
    }
   ],
   "source": [
    "percentages=[0.01, 0.1, 0.3, 0.5, 1]\n",
    "results = {'taskID':'1-4', 'sample_num':percentages, 'train_err':train_errors, 'test_err':test_errors}\n",
    "print(train_errors)\n",
    "print(test_errors)\n",
    "plot_result(results)"
   ]
  },
  {
   "cell_type": "code",
   "execution_count": null,
   "metadata": {},
   "outputs": [],
   "source": []
  }
 ],
 "metadata": {
  "interpreter": {
   "hash": "3708305fc94c69afca28f415217bd16e077c30653a6946d0cd4c9b77f246dd28"
  },
  "kernelspec": {
   "display_name": "Python 3.8.8 ('base')",
   "language": "python",
   "name": "python3"
  },
  "language_info": {
   "codemirror_mode": {
    "name": "ipython",
    "version": 3
   },
   "file_extension": ".py",
   "mimetype": "text/x-python",
   "name": "python",
   "nbconvert_exporter": "python",
   "pygments_lexer": "ipython3",
   "version": "3.8.8"
  },
  "orig_nbformat": 4
 },
 "nbformat": 4,
 "nbformat_minor": 2
}
