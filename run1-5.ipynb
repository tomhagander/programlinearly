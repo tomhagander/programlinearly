{
 "cells": [
  {
   "cell_type": "code",
   "execution_count": 9,
   "metadata": {},
   "outputs": [],
   "source": [
    "from MyRegressor import MyRegressor\n",
    "from utils import *\n",
    "import numpy as np\n",
    "\n",
    "# creating/importing data\n",
    "data = prepare_data_news()"
   ]
  },
  {
   "cell_type": "code",
   "execution_count": 10,
   "metadata": {},
   "outputs": [
    {
     "name": "stdout",
     "output_type": "stream",
     "text": [
      "M use N use\n",
      "6\n",
      "396\n",
      "3964\n",
      "58\n",
      "assigning\n",
      "updating\n",
      "assigning\n",
      "updating\n",
      "assigning\n",
      "updating\n",
      "assigning\n",
      "updating\n",
      "assigning\n",
      "updating\n",
      "assigning\n",
      "updating\n",
      "assigning\n",
      "updating\n",
      "assigning\n",
      "updating\n",
      "assigning\n",
      "updating\n",
      "assigning\n",
      "updating\n",
      "assigning\n",
      "updating\n",
      "assigning\n",
      "updating\n",
      "assigning\n",
      "updating\n",
      "assigning\n",
      "updating\n",
      "assigning\n",
      "updating\n",
      "assigning\n",
      "updating\n",
      "assigning\n",
      "updating\n",
      "assigning\n",
      "updating\n",
      "terminal\n",
      "did 0.1\n",
      "M use N use\n",
      "29\n",
      "793\n",
      "3964\n",
      "58\n",
      "assigning\n",
      "updating\n",
      "assigning\n",
      "updating\n",
      "terminal\n",
      "did 0.2\n",
      "M use N use\n",
      "58\n",
      "1189\n",
      "assigning\n",
      "updating\n",
      "terminal\n",
      "did 0.3\n",
      "M use N use\n",
      "58\n",
      "1982\n",
      "assigning\n",
      "updating\n",
      "terminal\n",
      "did 0.5\n",
      "did 1\n"
     ]
    }
   ],
   "source": [
    "N,M = data[\"trainX\"].shape\n",
    "costpercentages = [0.01, 0.1, 0.3, 0.5, 1]\n",
    "test_errors = []\n",
    "train_errors = []\n",
    "# FOR GAUSS\n",
    "# features M: absolute lower bound 0.1, ideal higher\n",
    "# samples N: absolute lower bound 0.35, ideal 0.5\n",
    "#designed_percentages = [(0.1, 0.1), (0.5, 0.2), (0.5, 0.6), (0.5, 1), (1,1)]\n",
    "\n",
    "# FOR NEWS\n",
    "designed_percentages = [(0.1, 0.1), (0.2, 0.5), (0.3, 1), (0.5, 1), (1,1)]\n",
    "for percentage in designed_percentages:\n",
    "    reg = MyRegressor(alpha=0.01)\n",
    "    selectX, selectY, indices  = reg.select_data(data[\"trainX\"], data[\"trainY\"], percentage[0], percentage[1])\n",
    "    predYtr, train_error = reg.train(selectX, selectY)\n",
    "    testX = data[\"testX\"][:, indices]\n",
    "    predYte, test_error = reg.evaluate(testX, data[\"testY\"])\n",
    "    train_errors.append(train_error)\n",
    "    test_errors.append(test_error)\n",
    "    print('did ' + str(percentage[0]))"
   ]
  },
  {
   "cell_type": "code",
   "execution_count": 11,
   "metadata": {},
   "outputs": [
    {
     "name": "stdout",
     "output_type": "stream",
     "text": [
      "[2299.12, 22991.2, 68973.6, 114956.0, 229912]\n"
     ]
    }
   ],
   "source": [
    "print([p*N*M for p in costpercentages])"
   ]
  },
  {
   "cell_type": "code",
   "execution_count": 12,
   "metadata": {},
   "outputs": [
    {
     "name": "stdout",
     "output_type": "stream",
     "text": [
      "[0.311258133903286, 0.2807530018413706, 0.2706723745712872, 0.26516497377391335, 0.28198997941064124]\n",
      "[0.28645060973038183, 0.2777533350607863, 0.27887471873527375, 0.27509578329261514, 0.27317162929422734]\n"
     ]
    },
    {
     "data": {
      "image/png": "[encoded data removed]",
      "text/plain": [
       "<Figure size 432x288 with 1 Axes>"
      ]
     },
     "metadata": {
      "needs_background": "light"
     },
     "output_type": "display_data"
    }
   ],
   "source": [
    "results = {'taskID':'1-5', 'cost':costpercentages, 'train_err':train_errors, 'test_err':test_errors}\n",
    "print(train_errors)\n",
    "print(test_errors)\n",
    "plot_result(results)"
   ]
  },
  {
   "cell_type": "code",
   "execution_count": null,
   "metadata": {},
   "outputs": [],
   "source": []
  }
 ],
 "metadata": {
  "interpreter": {
   "hash": "31f2aee4e71d21fbe5cf8b01ff0e069b9275f58929596ceb00d14d90e3e16cd6"
  },
  "kernelspec": {
   "display_name": "Python 3.8.9 64-bit",
   "language": "python",
   "name": "python3"
  },
  "language_info": {
   "codemirror_mode": {
    "name": "ipython",
    "version": 3
   },
   "file_extension": ".py",
   "mimetype": "text/x-python",
   "name": "python",
   "nbconvert_exporter": "python",
   "pygments_lexer": "ipython3",
   "version": "3.8.8"
  },
  "orig_nbformat": 4
 },
 "nbformat": 4,
 "nbformat_minor": 2
}
